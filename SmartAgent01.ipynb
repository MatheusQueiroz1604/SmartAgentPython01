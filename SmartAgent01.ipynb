{
  "nbformat": 4,
  "nbformat_minor": 0,
  "metadata": {
    "colab": {
      "provenance": [],
      "authorship_tag": "ABX9TyNDNJ3eYEo9KqzwoK1hpGS3",
      "include_colab_link": true
    },
    "kernelspec": {
      "name": "python3",
      "display_name": "Python 3"
    },
    "language_info": {
      "name": "python"
    }
  },
  "cells": [
    {
      "cell_type": "markdown",
      "metadata": {
        "id": "view-in-github",
        "colab_type": "text"
      },
      "source": [
        "<a href=\"https://colab.research.google.com/github/MatheusQueiroz1604/SmartAgentPython01/blob/main/SmartAgent01.ipynb\" target=\"_parent\"><img src=\"https://colab.research.google.com/assets/colab-badge.svg\" alt=\"Open In Colab\"/></a>"
      ]
    },
    {
      "cell_type": "code",
      "execution_count": null,
      "metadata": {
        "id": "n_xRZBeEemn1"
      },
      "outputs": [],
      "source": [
        "import random\n",
        "import matplotlib.pyplot as plt\n",
        "\n",
        "class GameAgent:\n",
        "  def __init__(self, secret_number, max_attempts=5):\n",
        "    self.secret_number = secret_number\n",
        "    self.max_attempts = max_attempts\n",
        "    self.attempts = 0\n",
        "    self.state = \"Esperando tentativa\"\n",
        "    self.history = []\n",
        "\n",
        "  def make_guess(self, guess):\n",
        "    self.attempts += 1\n",
        "    self.history.append(guess)\n",
        "\n",
        "    if (guess == self.secret_number):\n",
        "      self.state = \"Acertou!\"\n",
        "      return \"Parabéns! Você acertou o número.\"\n",
        "    elif self.attempts >= self.max_attempts:\n",
        "      self.state = \"Fim de Jogo\"\n",
        "      return f\"Game Over! O número era {self.secret_number}\"\n",
        "    elif guess < self.secret_number:\n",
        "      self.state = \"Tentativa errada (muito baixo)\"\n",
        "      return \"O número é maior. Tente novamente.\"\n",
        "    else:\n",
        "      self.state = \"Tentativa errada (muito alto)\"\n",
        "      return \"O número é menor. Tente novamente.\"\n",
        "\n",
        "agent = GameAgent(secret_number=random.randint(1, 100))\n",
        "\n",
        "def difficulty():\n",
        "  invalid = True\n",
        "  while (invalid):\n",
        "    difficulty = input(\"Selecione a dificuldade (fácil, médio, difícil): \")\n",
        "    if (difficulty == \"fácil\" or difficulty == \"facil\"):\n",
        "      agent.secret_number = random.randint(1, 50)\n",
        "      agent.max_attempts = 10\n",
        "      invalid = False\n",
        "    elif (difficulty == \"médio\" or difficulty == \"medio\"):\n",
        "      agent.secret_number = random.randint(1, 100)\n",
        "      invalid = False\n",
        "    elif (difficulty == \"difícil\" or difficulty == \"dificil\"):\n",
        "      agent.secret_number = random.randint(1, 250)\n",
        "      agent.max_attempts = 3\n",
        "      invalid = False\n",
        "    else:\n",
        "      print(\"Resposta inválida. Tente novamente.\")\n",
        "\n",
        "difficulty()\n",
        "while agent.state not in [\"Acertou!\", \"Fim de Jogo\"]:\n",
        "  guess = int(input(\"Digite um número: \"))\n",
        "  print(agent.make_guess(guess))\n",
        "\n",
        "def plot_attempts(agent):\n",
        "  plt.figure(figsize=(8,5))\n",
        "  plt.plot(range(1, len(agent.history) + 1), agent.history, marker='o', linestyle='-')\n",
        "  plt.axhline(y=agent.secret_number, color='r', linestyle='--', label='Número Secreto')\n",
        "  plt.xlabel(\"Tentativas\")\n",
        "  plt.ylabel(\"Valor do Palpite\")\n",
        "  plt.title(\"Evolução das Tentativas do Jogador\")\n",
        "  plt.legend()\n",
        "  plt.show()\n",
        "\n",
        "agent = GameAgent(secret_number=42)\n",
        "guesses = [10, 20, 30, 40, 45, 42]\n",
        "for g in guesses:\n",
        "  agent.make_guess(g)\n",
        "plot_attempts(agent)"
      ]
    },
    {
      "cell_type": "code",
      "source": [],
      "metadata": {
        "id": "dGrBKvfokEE_"
      },
      "execution_count": null,
      "outputs": []
    }
  ]
}